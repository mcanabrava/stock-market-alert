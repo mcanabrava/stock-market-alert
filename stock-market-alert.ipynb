{
 "cells": [
  {
   "cell_type": "code",
   "execution_count": 9,
   "id": "a3ad86e4",
   "metadata": {},
   "outputs": [],
   "source": [
    "import pandas as pd\n",
    "import configparser\n",
    "import requests"
   ]
  },
  {
   "cell_type": "code",
   "execution_count": 10,
   "id": "726f66ab",
   "metadata": {},
   "outputs": [
    {
     "name": "stdout",
     "output_type": "stream",
     "text": [
      "  Ticker                         Index\n",
      "0    SPX                       S&P 500\n",
      "1   IXIC            US COMPOSITE INDEX\n",
      "2    DJI  Dow Jones Industrial Average\n",
      "3    VIX         CBOE VOLATILITY INDEX\n",
      "4    TSX       S&P/TSX COMPOSITE INDEX\n"
     ]
    },
    {
     "data": {
      "text/html": [
       "<div>\n",
       "<style scoped>\n",
       "    .dataframe tbody tr th:only-of-type {\n",
       "        vertical-align: middle;\n",
       "    }\n",
       "\n",
       "    .dataframe tbody tr th {\n",
       "        vertical-align: top;\n",
       "    }\n",
       "\n",
       "    .dataframe thead th {\n",
       "        text-align: right;\n",
       "    }\n",
       "</style>\n",
       "<table border=\"1\" class=\"dataframe\">\n",
       "  <thead>\n",
       "    <tr style=\"text-align: right;\">\n",
       "      <th></th>\n",
       "      <th>Ticker</th>\n",
       "      <th>Index</th>\n",
       "    </tr>\n",
       "  </thead>\n",
       "  <tbody>\n",
       "    <tr>\n",
       "      <th>count</th>\n",
       "      <td>26</td>\n",
       "      <td>26</td>\n",
       "    </tr>\n",
       "    <tr>\n",
       "      <th>unique</th>\n",
       "      <td>26</td>\n",
       "      <td>26</td>\n",
       "    </tr>\n",
       "    <tr>\n",
       "      <th>top</th>\n",
       "      <td>SPX</td>\n",
       "      <td>S&amp;P 500</td>\n",
       "    </tr>\n",
       "    <tr>\n",
       "      <th>freq</th>\n",
       "      <td>1</td>\n",
       "      <td>1</td>\n",
       "    </tr>\n",
       "  </tbody>\n",
       "</table>\n",
       "</div>"
      ],
      "text/plain": [
       "       Ticker    Index\n",
       "count      26       26\n",
       "unique     26       26\n",
       "top       SPX  S&P 500\n",
       "freq        1        1"
      ]
     },
     "execution_count": 10,
     "metadata": {},
     "output_type": "execute_result"
    }
   ],
   "source": [
    "# Replace 'indexes.csv' with the actual filename if it's different\n",
    "csv_file = 'indexes.csv'\n",
    "\n",
    "# Read the CSV file into a Pandas DataFrame\n",
    "df = pd.read_csv(csv_file)\n",
    "\n",
    "# Display the first few rows of the DataFrame to check if the data was loaded correctly\n",
    "print(df.head())\n",
    "df.describe()"
   ]
  },
  {
   "cell_type": "code",
   "execution_count": 8,
   "id": "972dd41c",
   "metadata": {},
   "outputs": [],
   "source": [
    "# Read the API key from env.cfg\n",
    "config = configparser.ConfigParser()\n",
    "config.read('env.cfg')\n",
    "api_key = config.get('MARKETSTACK', 'api_key')"
   ]
  },
  {
   "cell_type": "code",
   "execution_count": 12,
   "id": "57d1c994",
   "metadata": {},
   "outputs": [
    {
     "name": "stdout",
     "output_type": "stream",
     "text": [
      "Response for SPX:\n",
      "{'pagination': {'limit': 100, 'offset': 0, 'count': 0, 'total': 0}, 'data': []}\n",
      "Failed to fetch data for IXIC. Status Code: 403\n",
      "Response for DJI:\n",
      "{'pagination': {'limit': 100, 'offset': 0, 'count': 0, 'total': 0}, 'data': []}\n",
      "Failed to fetch data for VIX. Status Code: 403\n",
      "Response for TSX:\n",
      "{'pagination': {'limit': 100, 'offset': 0, 'count': 0, 'total': 0}, 'data': []}\n",
      "Response for UKX:\n",
      "{'pagination': {'limit': 100, 'offset': 0, 'count': 0, 'total': 0}, 'data': []}\n",
      "Response for DAX:\n",
      "{'pagination': {'limit': 100, 'offset': 0, 'count': 100, 'total': 3293}, 'data': [{'open': 30.3, 'high': 30.3, 'low': 30.0283, 'last': 30.15, 'close': 30.32, 'volume': 6592.0, 'date': '2023-07-21T00:00:00+0000', 'symbol': 'DAX', 'exchange': 'IEXG'}, {'open': 30.32, 'high': 30.4, 'low': 30.2133, 'last': 30.32, 'close': 30.41, 'volume': 5967.0, 'date': '2023-07-20T00:00:00+0000', 'symbol': 'DAX', 'exchange': 'IEXG'}, {'open': 30.23, 'high': 30.23, 'low': 30.23, 'last': None, 'close': None, 'volume': None, 'date': '2023-07-19T19:00:00+0000', 'symbol': 'DAX', 'exchange': 'IEXG'}, {'open': 30.23, 'high': 30.23, 'low': 30.23, 'last': None, 'close': None, 'volume': None, 'date': '2023-07-19T18:00:00+0000', 'symbol': 'DAX', 'exchange': 'IEXG'}, {'open': 30.23, 'high': 30.23, 'low': 30.23, 'last': None, 'close': None, 'volume': None, 'date': '2023-07-19T17:00:00+0000', 'symbol': 'DAX', 'exchange': 'IEXG'}, {'open': 30.23, 'high': 30.23, 'low': 30.23, 'last': None, 'close': None, 'volume': None, 'date': '2023-07-19T16:00:00+0000', 'symbol': 'DAX', 'exchange': 'IEXG'}, {'open': 30.23, 'high': 30.23, 'low': 30.23, 'last': None, 'close': None, 'volume': None, 'date': '2023-07-19T15:00:00+0000', 'symbol': 'DAX', 'exchange': 'IEXG'}, {'open': 30.34, 'high': 30.34, 'low': 30.34, 'last': None, 'close': None, 'volume': None, 'date': '2023-07-19T14:00:00+0000', 'symbol': 'DAX', 'exchange': 'IEXG'}, {'open': 30.3, 'high': 30.41, 'low': 30.2901, 'last': 30.41, 'close': 30.43, 'volume': 26132.0, 'date': '2023-07-19T00:00:00+0000', 'symbol': 'DAX', 'exchange': 'IEXG'}, {'open': 30.34, 'high': 30.34, 'low': 30.34, 'last': None, 'close': None, 'volume': None, 'date': '2023-07-18T19:00:00+0000', 'symbol': 'DAX', 'exchange': 'IEXG'}, {'open': 30.24, 'high': 30.24, 'low': 30.24, 'last': None, 'close': None, 'volume': None, 'date': '2023-07-18T18:00:00+0000', 'symbol': 'DAX', 'exchange': 'IEXG'}, {'open': 30.24, 'high': 30.24, 'low': 30.24, 'last': None, 'close': None, 'volume': None, 'date': '2023-07-18T17:00:00+0000', 'symbol': 'DAX', 'exchange': 'IEXG'}, {'open': 30.24, 'high': 30.24, 'low': 30.24, 'last': None, 'close': None, 'volume': None, 'date': '2023-07-18T16:00:00+0000', 'symbol': 'DAX', 'exchange': 'IEXG'}, {'open': 30.24, 'high': 30.24, 'low': 30.24, 'last': None, 'close': None, 'volume': None, 'date': '2023-07-18T15:00:00+0000', 'symbol': 'DAX', 'exchange': 'IEXG'}, {'open': 30.24, 'high': 30.24, 'low': 30.24, 'last': None, 'close': None, 'volume': None, 'date': '2023-07-18T14:00:00+0000', 'symbol': 'DAX', 'exchange': 'IEXG'}, {'open': 30.17, 'high': 30.43, 'low': 30.12, 'last': 30.43, 'close': 30.31, 'volume': 2903.0, 'date': '2023-07-18T00:00:00+0000', 'symbol': 'DAX', 'exchange': 'IEXG'}, {'open': 30.24, 'high': 30.24, 'low': 30.24, 'last': None, 'close': None, 'volume': None, 'date': '2023-07-17T19:00:00+0000', 'symbol': 'DAX', 'exchange': 'IEXG'}, {'open': 30.24, 'high': 30.24, 'low': 30.24, 'last': None, 'close': None, 'volume': None, 'date': '2023-07-17T18:00:00+0000', 'symbol': 'DAX', 'exchange': 'IEXG'}, {'open': 30.24, 'high': 30.24, 'low': 30.24, 'last': None, 'close': None, 'volume': None, 'date': '2023-07-17T17:00:00+0000', 'symbol': 'DAX', 'exchange': 'IEXG'}, {'open': 30.24, 'high': 30.24, 'low': 30.24, 'last': None, 'close': None, 'volume': None, 'date': '2023-07-17T16:00:00+0000', 'symbol': 'DAX', 'exchange': 'IEXG'}, {'open': 30.24, 'high': 30.24, 'low': 30.24, 'last': None, 'close': None, 'volume': None, 'date': '2023-07-17T15:00:00+0000', 'symbol': 'DAX', 'exchange': 'IEXG'}, {'open': 30.24, 'high': 30.24, 'low': 30.24, 'last': None, 'close': None, 'volume': None, 'date': '2023-07-17T14:00:00+0000', 'symbol': 'DAX', 'exchange': 'IEXG'}, {'open': 30.31, 'high': 30.31, 'low': 30.31, 'last': 30.31, 'close': 30.46, 'volume': 218.0, 'date': '2023-07-15T00:00:00+0000', 'symbol': 'DAX', 'exchange': 'IEXG'}, {'open': 30.38, 'high': 30.38, 'low': 30.38, 'last': None, 'close': None, 'volume': None, 'date': '2023-07-14T19:00:00+0000', 'symbol': 'DAX', 'exchange': 'IEXG'}, {'open': 30.38, 'high': 30.38, 'low': 30.38, 'last': None, 'close': None, 'volume': None, 'date': '2023-07-14T18:00:00+0000', 'symbol': 'DAX', 'exchange': 'IEXG'}, {'open': 30.43, 'high': 30.43, 'low': 30.43, 'last': None, 'close': None, 'volume': None, 'date': '2023-07-14T17:00:00+0000', 'symbol': 'DAX', 'exchange': 'IEXG'}, {'open': 30.43, 'high': 30.43, 'low': 30.43, 'last': None, 'close': None, 'volume': None, 'date': '2023-07-14T16:00:00+0000', 'symbol': 'DAX', 'exchange': 'IEXG'}, {'open': 30.43, 'high': 30.43, 'low': 30.43, 'last': None, 'close': None, 'volume': None, 'date': '2023-07-14T15:00:00+0000', 'symbol': 'DAX', 'exchange': 'IEXG'}, {'open': 30.43, 'high': 30.43, 'low': 30.43, 'last': None, 'close': None, 'volume': None, 'date': '2023-07-14T14:00:00+0000', 'symbol': 'DAX', 'exchange': 'IEXG'}, {'open': 30.39, 'high': 30.46, 'low': 30.35, 'last': 30.46, 'close': 30.0, 'volume': 4895.0, 'date': '2023-07-14T00:00:00+0000', 'symbol': 'DAX', 'exchange': 'IEXG'}, {'open': 29.77, 'high': 30.0111, 'low': 29.77, 'last': 30.0, 'close': 29.24, 'volume': 6355.0, 'date': '2023-07-13T00:00:00+0000', 'symbol': 'DAX', 'exchange': 'IEXG'}, {'open': 29.17, 'high': 29.17, 'low': 29.17, 'last': None, 'close': None, 'volume': None, 'date': '2023-07-12T19:00:00+0000', 'symbol': 'DAX', 'exchange': 'IEXG'}, {'open': 29.17, 'high': 29.17, 'low': 29.17, 'last': None, 'close': None, 'volume': None, 'date': '2023-07-12T18:00:00+0000', 'symbol': 'DAX', 'exchange': 'IEXG'}, {'open': 29.17, 'high': 29.17, 'low': 29.17, 'last': None, 'close': None, 'volume': None, 'date': '2023-07-12T17:00:00+0000', 'symbol': 'DAX', 'exchange': 'IEXG'}, {'open': 29.17, 'high': 29.17, 'low': 29.17, 'last': None, 'close': None, 'volume': None, 'date': '2023-07-12T16:00:00+0000', 'symbol': 'DAX', 'exchange': 'IEXG'}, {'open': 29.17, 'high': 29.17, 'low': 29.17, 'last': None, 'close': None, 'volume': None, 'date': '2023-07-12T15:00:00+0000', 'symbol': 'DAX', 'exchange': 'IEXG'}, {'open': 29.17, 'high': 29.17, 'low': 29.17, 'last': None, 'close': None, 'volume': None, 'date': '2023-07-12T14:00:00+0000', 'symbol': 'DAX', 'exchange': 'IEXG'}, {'open': 29.09, 'high': 29.25, 'low': 29.08, 'last': 29.24, 'close': 28.93, 'volume': 7726.0, 'date': '2023-07-12T00:00:00+0000', 'symbol': 'DAX', 'exchange': 'IEXG'}, {'open': 29.17, 'high': 29.17, 'low': 29.17, 'last': None, 'close': None, 'volume': None, 'date': '2023-07-11T19:00:00+0000', 'symbol': 'DAX', 'exchange': 'IEXG'}, {'open': 29.17, 'high': 29.17, 'low': 29.17, 'last': None, 'close': None, 'volume': None, 'date': '2023-07-11T18:00:00+0000', 'symbol': 'DAX', 'exchange': 'IEXG'}, {'open': 29.17, 'high': 29.17, 'low': 29.17, 'last': None, 'close': None, 'volume': None, 'date': '2023-07-11T17:00:00+0000', 'symbol': 'DAX', 'exchange': 'IEXG'}, {'open': 29.17, 'high': 29.17, 'low': 29.17, 'last': None, 'close': None, 'volume': None, 'date': '2023-07-11T16:00:00+0000', 'symbol': 'DAX', 'exchange': 'IEXG'}, {'open': 29.17, 'high': 29.17, 'low': 29.17, 'last': None, 'close': None, 'volume': None, 'date': '2023-07-11T15:00:00+0000', 'symbol': 'DAX', 'exchange': 'IEXG'}, {'open': 29.17, 'high': 29.17, 'low': 29.17, 'last': 29.17, 'close': 28.93, 'volume': 100.0, 'date': '2023-07-11T14:00:00+0000', 'symbol': 'DAX', 'exchange': 'IEXG'}, {'open': 28.82, 'high': 29.0136, 'low': 28.79, 'last': 28.93, 'close': 28.83, 'volume': 22298.0, 'date': '2023-07-11T00:00:00+0000', 'symbol': 'DAX', 'exchange': 'IEXG'}, {'open': 28.95, 'high': 28.95, 'low': 28.95, 'last': None, 'close': None, 'volume': None, 'date': '2023-07-10T19:00:00+0000', 'symbol': 'DAX', 'exchange': 'IEXG'}, {'open': 28.85, 'high': 28.85, 'low': 28.85, 'last': None, 'close': None, 'volume': None, 'date': '2023-07-10T18:00:00+0000', 'symbol': 'DAX', 'exchange': 'IEXG'}, {'open': 28.89, 'high': 28.89, 'low': 28.85, 'last': 28.85, 'close': 28.83, 'volume': 316.0, 'date': '2023-07-10T17:00:00+0000', 'symbol': 'DAX', 'exchange': 'IEXG'}, {'open': 28.89, 'high': 28.89, 'low': 28.89, 'last': None, 'close': None, 'volume': None, 'date': '2023-07-10T16:00:00+0000', 'symbol': 'DAX', 'exchange': 'IEXG'}, {'open': 28.89, 'high': 28.89, 'low': 28.89, 'last': None, 'close': None, 'volume': None, 'date': '2023-07-10T15:00:00+0000', 'symbol': 'DAX', 'exchange': 'IEXG'}, {'open': 28.89, 'high': 28.89, 'low': 28.89, 'last': None, 'close': None, 'volume': None, 'date': '2023-07-10T14:00:00+0000', 'symbol': 'DAX', 'exchange': 'IEXG'}, {'open': 28.585, 'high': 28.84, 'low': 28.585, 'last': 28.83, 'close': 28.46, 'volume': 3646.0, 'date': '2023-07-08T00:00:00+0000', 'symbol': 'DAX', 'exchange': 'IEXG'}, {'open': 28.64, 'high': 28.64, 'low': 28.64, 'last': None, 'close': None, 'volume': None, 'date': '2023-07-07T19:00:00+0000', 'symbol': 'DAX', 'exchange': 'IEXG'}, {'open': 28.64, 'high': 28.64, 'low': 28.64, 'last': None, 'close': None, 'volume': None, 'date': '2023-07-07T18:00:00+0000', 'symbol': 'DAX', 'exchange': 'IEXG'}, {'open': 28.64, 'high': 28.64, 'low': 28.64, 'last': None, 'close': None, 'volume': None, 'date': '2023-07-07T17:00:00+0000', 'symbol': 'DAX', 'exchange': 'IEXG'}, {'open': 28.64, 'high': 28.64, 'low': 28.64, 'last': None, 'close': None, 'volume': None, 'date': '2023-07-07T16:00:00+0000', 'symbol': 'DAX', 'exchange': 'IEXG'}, {'open': 28.64, 'high': 28.64, 'low': 28.64, 'last': None, 'close': None, 'volume': None, 'date': '2023-07-07T15:00:00+0000', 'symbol': 'DAX', 'exchange': 'IEXG'}, {'open': 28.64, 'high': 28.64, 'low': 28.64, 'last': None, 'close': None, 'volume': None, 'date': '2023-07-07T14:00:00+0000', 'symbol': 'DAX', 'exchange': 'IEXG'}, {'open': 28.63, 'high': 28.63, 'low': 28.275, 'last': 28.46, 'close': 29.06, 'volume': 43012.0, 'date': '2023-07-07T00:00:00+0000', 'symbol': 'DAX', 'exchange': 'IEXG'}, {'open': 29.28, 'high': 29.28, 'low': 28.9401, 'last': 29.06, 'close': 29.525, 'volume': 6129.0, 'date': '2023-07-06T00:00:00+0000', 'symbol': 'DAX', 'exchange': 'IEXG'}, {'open': 29.52, 'high': 29.525, 'low': 29.42, 'last': 29.525, 'close': 29.61, 'volume': 2405.0, 'date': '2023-07-04T00:00:00+0000', 'symbol': 'DAX', 'exchange': 'IEXG'}, {'open': 29.58, 'high': 29.6608, 'low': 29.48, 'last': 29.61, 'close': 29.19, 'volume': 4480.0, 'date': '2023-07-01T00:00:00+0000', 'symbol': 'DAX', 'exchange': 'IEXG'}, {'open': 29.64, 'high': 29.64, 'low': 29.64, 'last': None, 'close': None, 'volume': None, 'date': '2023-06-30T19:00:00+0000', 'symbol': 'DAX', 'exchange': 'IEXG'}, {'open': 29.64, 'high': 29.64, 'low': 29.64, 'last': None, 'close': None, 'volume': None, 'date': '2023-06-30T18:00:00+0000', 'symbol': 'DAX', 'exchange': 'IEXG'}, {'open': 29.64, 'high': 29.64, 'low': 29.64, 'last': None, 'close': None, 'volume': None, 'date': '2023-06-30T17:00:00+0000', 'symbol': 'DAX', 'exchange': 'IEXG'}, {'open': 29.64, 'high': 29.64, 'low': 29.64, 'last': None, 'close': None, 'volume': None, 'date': '2023-06-30T16:00:00+0000', 'symbol': 'DAX', 'exchange': 'IEXG'}, {'open': 29.64, 'high': 29.64, 'low': 29.64, 'last': None, 'close': None, 'volume': None, 'date': '2023-06-30T15:00:00+0000', 'symbol': 'DAX', 'exchange': 'IEXG'}, {'open': 29.64, 'high': 29.64, 'low': 29.64, 'last': None, 'close': None, 'volume': None, 'date': '2023-06-30T14:00:00+0000', 'symbol': 'DAX', 'exchange': 'IEXG'}, {'open': 29.14, 'high': 29.275, 'low': 28.9362, 'last': 29.19, 'close': 29.413790328994, 'volume': 17695.0, 'date': '2023-06-30T00:00:00+0000', 'symbol': 'DAX', 'exchange': 'IEXG'}, {'open': 29.92, 'high': 30.07, 'low': 29.735, 'last': 30.07, 'close': 29.83, 'volume': 20485.0, 'date': '2023-06-29T00:00:00+0000', 'symbol': 'DAX', 'exchange': 'IEXG'}, {'open': 29.86, 'high': 29.86, 'low': 29.86, 'last': None, 'close': None, 'volume': None, 'date': '2023-06-28T19:00:00+0000', 'symbol': 'DAX', 'exchange': 'IEXG'}, {'open': 29.88, 'high': 29.88, 'low': 29.88, 'last': None, 'close': None, 'volume': None, 'date': '2023-06-28T18:00:00+0000', 'symbol': 'DAX', 'exchange': 'IEXG'}, {'open': 29.88, 'high': 29.88, 'low': 29.88, 'last': None, 'close': None, 'volume': None, 'date': '2023-06-28T17:00:00+0000', 'symbol': 'DAX', 'exchange': 'IEXG'}, {'open': 29.88, 'high': 29.88, 'low': 29.88, 'last': None, 'close': None, 'volume': None, 'date': '2023-06-28T16:00:00+0000', 'symbol': 'DAX', 'exchange': 'IEXG'}, {'open': 29.88, 'high': 29.88, 'low': 29.88, 'last': None, 'close': None, 'volume': None, 'date': '2023-06-28T15:00:00+0000', 'symbol': 'DAX', 'exchange': 'IEXG'}, {'open': 29.88, 'high': 29.88, 'low': 29.88, 'last': None, 'close': None, 'volume': None, 'date': '2023-06-28T14:00:00+0000', 'symbol': 'DAX', 'exchange': 'IEXG'}, {'open': 29.73, 'high': 30.0119, 'low': 29.7001, 'last': 29.83, 'close': 29.67, 'volume': 5118.0, 'date': '2023-06-28T00:00:00+0000', 'symbol': 'DAX', 'exchange': 'IEXG'}, {'open': 29.88, 'high': 29.88, 'low': 29.88, 'last': None, 'close': None, 'volume': None, 'date': '2023-06-27T19:00:00+0000', 'symbol': 'DAX', 'exchange': 'IEXG'}, {'open': 29.88, 'high': 29.88, 'low': 29.88, 'last': None, 'close': None, 'volume': None, 'date': '2023-06-27T18:00:00+0000', 'symbol': 'DAX', 'exchange': 'IEXG'}, {'open': 29.88, 'high': 29.88, 'low': 29.88, 'last': None, 'close': None, 'volume': None, 'date': '2023-06-27T17:00:00+0000', 'symbol': 'DAX', 'exchange': 'IEXG'}, {'open': 29.68, 'high': 29.68, 'low': 29.68, 'last': None, 'close': None, 'volume': None, 'date': '2023-06-27T16:00:00+0000', 'symbol': 'DAX', 'exchange': 'IEXG'}, {'open': 29.68, 'high': 29.68, 'low': 29.68, 'last': None, 'close': None, 'volume': None, 'date': '2023-06-27T15:00:00+0000', 'symbol': 'DAX', 'exchange': 'IEXG'}, {'open': 29.68, 'high': 29.68, 'low': 29.68, 'last': None, 'close': None, 'volume': None, 'date': '2023-06-27T14:00:00+0000', 'symbol': 'DAX', 'exchange': 'IEXG'}, {'open': 29.67, 'high': 29.815, 'low': 29.4003, 'last': 29.67, 'close': 29.69, 'volume': 3953.0, 'date': '2023-06-27T00:00:00+0000', 'symbol': 'DAX', 'exchange': 'IEXG'}, {'open': 29.68, 'high': 29.68, 'low': 29.68, 'last': None, 'close': None, 'volume': None, 'date': '2023-06-26T19:00:00+0000', 'symbol': 'DAX', 'exchange': 'IEXG'}, {'open': 29.68, 'high': 29.68, 'low': 29.68, 'last': None, 'close': None, 'volume': None, 'date': '2023-06-26T18:00:00+0000', 'symbol': 'DAX', 'exchange': 'IEXG'}, {'open': 29.68, 'high': 29.68, 'low': 29.68, 'last': None, 'close': None, 'volume': None, 'date': '2023-06-26T17:00:00+0000', 'symbol': 'DAX', 'exchange': 'IEXG'}, {'open': 29.68, 'high': 29.68, 'low': 29.68, 'last': None, 'close': None, 'volume': None, 'date': '2023-06-26T16:00:00+0000', 'symbol': 'DAX', 'exchange': 'IEXG'}, {'open': 29.68, 'high': 29.68, 'low': 29.68, 'last': None, 'close': None, 'volume': None, 'date': '2023-06-26T15:00:00+0000', 'symbol': 'DAX', 'exchange': 'IEXG'}, {'open': 29.68, 'high': 29.68, 'low': 29.68, 'last': None, 'close': None, 'volume': None, 'date': '2023-06-26T14:00:00+0000', 'symbol': 'DAX', 'exchange': 'IEXG'}, {'open': 29.3893, 'high': 29.7999, 'low': 29.3893, 'last': 29.69, 'close': 30.14, 'volume': 23162.0, 'date': '2023-06-24T00:00:00+0000', 'symbol': 'DAX', 'exchange': 'IEXG'}, {'open': 29.98, 'high': 30.25, 'low': 29.62, 'last': 30.14, 'close': 30.16, 'volume': 10957.0, 'date': '2023-06-23T00:00:00+0000', 'symbol': 'DAX', 'exchange': 'IEXG'}, {'open': 29.93, 'high': 29.93, 'low': 29.93, 'last': None, 'close': None, 'volume': None, 'date': '2023-06-22T19:00:00+0000', 'symbol': 'DAX', 'exchange': 'IEXG'}, {'open': 29.93, 'high': 29.93, 'low': 29.93, 'last': None, 'close': None, 'volume': None, 'date': '2023-06-22T18:00:00+0000', 'symbol': 'DAX', 'exchange': 'IEXG'}, {'open': 29.93, 'high': 29.93, 'low': 29.93, 'last': None, 'close': None, 'volume': None, 'date': '2023-06-22T17:00:00+0000', 'symbol': 'DAX', 'exchange': 'IEXG'}, {'open': 30.18, 'high': 30.18, 'low': 30.18, 'last': None, 'close': None, 'volume': None, 'date': '2023-06-22T16:00:00+0000', 'symbol': 'DAX', 'exchange': 'IEXG'}, {'open': 30.18, 'high': 30.18, 'low': 30.18, 'last': None, 'close': None, 'volume': None, 'date': '2023-06-22T15:00:00+0000', 'symbol': 'DAX', 'exchange': 'IEXG'}, {'open': 30.18, 'high': 30.18, 'low': 30.18, 'last': None, 'close': None, 'volume': None, 'date': '2023-06-22T14:00:00+0000', 'symbol': 'DAX', 'exchange': 'IEXG'}, {'open': 30.06, 'high': 30.4642, 'low': 30.06, 'last': 30.16, 'close': 30.37, 'volume': 4780.0, 'date': '2023-06-22T00:00:00+0000', 'symbol': 'DAX', 'exchange': 'IEXG'}, {'open': 30.5, 'high': 30.5496, 'low': 30.17, 'last': 30.37, 'close': 30.75, 'volume': 43262.0, 'date': '2023-06-21T00:00:00+0000', 'symbol': 'DAX', 'exchange': 'IEXG'}]}\n"
     ]
    },
    {
     "name": "stdout",
     "output_type": "stream",
     "text": [
      "Failed to fetch data for PX1. Status Code: 422\n",
      "Failed to fetch data for FTMIB. Status Code: 422\n",
      "Failed to fetch data for NI225. Status Code: 422\n",
      "Failed to fetch data for KOSPI. Status Code: 422\n",
      "Response for 000001:\n",
      "{'pagination': {'limit': 100, 'offset': 0, 'count': 1, 'total': 1}, 'data': [{'open': 10.4, 'high': 10.85, 'low': 10.39, 'last': 10.82, 'close': 10.44, 'volume': 177611220.0, 'date': '2022-11-05T00:00:00+0000', 'symbol': '000001', 'exchange': 'IEXG'}]}\n",
      "Failed to fetch data for 399001. Status Code: 422\n",
      "Failed to fetch data for XJO. Status Code: 422\n",
      "Failed to fetch data for COMPOSITE. Status Code: 422\n",
      "Failed to fetch data for SX5E. Status Code: 403\n",
      "Failed to fetch data for IMOEX. Status Code: 403\n",
      "Failed to fetch data for XU100. Status Code: 403\n",
      "Failed to fetch data for SA40. Status Code: 422\n",
      "Failed to fetch data for NIFTY. Status Code: 422\n",
      "Failed to fetch data for SENSEX. Status Code: 422\n",
      "Failed to fetch data for TASI. Status Code: 403\n",
      "Response for IBOV:\n",
      "{'pagination': {'limit': 100, 'offset': 0, 'count': 0, 'total': 0}, 'data': []}\n",
      "Response for ME:\n",
      "{'pagination': {'limit': 100, 'offset': 0, 'count': 0, 'total': 0}, 'data': []}\n",
      "Response for IMV:\n",
      "{'pagination': {'limit': 100, 'offset': 0, 'count': 100, 'total': 3765}, 'data': [{'open': 0.8225, 'high': 0.8225, 'low': 0.8225, 'last': 0.8225, 'close': 0.8225, 'volume': None, 'date': '2023-05-10T00:00:00+0000', 'symbol': 'IMV', 'exchange': 'IEXG'}, {'open': 0.8225, 'high': 0.8225, 'low': 0.8225, 'last': 0.8225, 'close': 0.8225, 'volume': None, 'date': '2023-05-09T00:00:00+0000', 'symbol': 'IMV', 'exchange': 'IEXG'}, {'open': 0.8225, 'high': 0.8225, 'low': 0.8225, 'last': 0.8225, 'close': 0.8225, 'volume': None, 'date': '2023-05-06T00:00:00+0000', 'symbol': 'IMV', 'exchange': 'IEXG'}, {'open': 0.8225, 'high': 0.8225, 'low': 0.8225, 'last': 0.8225, 'close': 0.8225, 'volume': None, 'date': '2023-05-05T00:00:00+0000', 'symbol': 'IMV', 'exchange': 'IEXG'}, {'open': 0.8225, 'high': 0.8225, 'low': 0.8225, 'last': 0.8225, 'close': 0.8225, 'volume': None, 'date': '2023-05-04T00:00:00+0000', 'symbol': 'IMV', 'exchange': 'IEXG'}, {'open': 0.8225, 'high': 0.8225, 'low': 0.8225, 'last': 0.8225, 'close': 0.8225, 'volume': None, 'date': '2023-05-03T00:00:00+0000', 'symbol': 'IMV', 'exchange': 'IEXG'}, {'open': 0.8225, 'high': 0.8225, 'low': 0.8225, 'last': 0.8225, 'close': 0.8225, 'volume': None, 'date': '2023-05-02T00:00:00+0000', 'symbol': 'IMV', 'exchange': 'IEXG'}, {'open': 0.811, 'high': 0.84, 'low': 0.7753, 'last': 0.8225, 'close': 0.844, 'volume': 44894.0, 'date': '2023-04-29T00:00:00+0000', 'symbol': 'IMV', 'exchange': 'IEXG'}, {'open': 0.8028, 'high': 0.8028, 'low': 0.8028, 'last': None, 'close': None, 'volume': None, 'date': '2023-04-28T19:00:00+0000', 'symbol': 'IMV', 'exchange': 'IEXG'}, {'open': 0.78, 'high': 0.78, 'low': 0.78, 'last': None, 'close': None, 'volume': None, 'date': '2023-04-28T18:00:00+0000', 'symbol': 'IMV', 'exchange': 'IEXG'}, {'open': 0.78, 'high': 0.78, 'low': 0.78, 'last': None, 'close': None, 'volume': None, 'date': '2023-04-28T17:00:00+0000', 'symbol': 'IMV', 'exchange': 'IEXG'}, {'open': 0.78, 'high': 0.78, 'low': 0.78, 'last': None, 'close': None, 'volume': None, 'date': '2023-04-28T16:00:00+0000', 'symbol': 'IMV', 'exchange': 'IEXG'}, {'open': 0.78, 'high': 0.78, 'low': 0.78, 'last': None, 'close': None, 'volume': None, 'date': '2023-04-28T15:00:00+0000', 'symbol': 'IMV', 'exchange': 'IEXG'}, {'open': 0.78, 'high': 0.78, 'low': 0.78, 'last': None, 'close': None, 'volume': None, 'date': '2023-04-28T14:00:00+0000', 'symbol': 'IMV', 'exchange': 'IEXG'}, {'open': 0.78, 'high': 0.8503, 'low': 0.7346, 'last': 0.844, 'close': 0.7701, 'volume': 192219.0, 'date': '2023-04-28T00:00:00+0000', 'symbol': 'IMV', 'exchange': 'IEXG'}, {'open': 0.7625, 'high': 0.7625, 'low': 0.7625, 'last': None, 'close': None, 'volume': None, 'date': '2023-04-27T19:00:00+0000', 'symbol': 'IMV', 'exchange': 'IEXG'}, {'open': 0.782, 'high': 0.782, 'low': 0.782, 'last': None, 'close': None, 'volume': None, 'date': '2023-04-27T18:00:00+0000', 'symbol': 'IMV', 'exchange': 'IEXG'}, {'open': 0.782, 'high': 0.782, 'low': 0.782, 'last': None, 'close': None, 'volume': None, 'date': '2023-04-27T17:00:00+0000', 'symbol': 'IMV', 'exchange': 'IEXG'}, {'open': 0.782, 'high': 0.782, 'low': 0.782, 'last': None, 'close': None, 'volume': None, 'date': '2023-04-27T16:00:00+0000', 'symbol': 'IMV', 'exchange': 'IEXG'}, {'open': 0.782, 'high': 0.782, 'low': 0.782, 'last': None, 'close': None, 'volume': None, 'date': '2023-04-27T15:00:00+0000', 'symbol': 'IMV', 'exchange': 'IEXG'}, {'open': 0.782, 'high': 0.782, 'low': 0.782, 'last': None, 'close': None, 'volume': None, 'date': '2023-04-27T14:00:00+0000', 'symbol': 'IMV', 'exchange': 'IEXG'}, {'open': 0.7512, 'high': 0.795, 'low': 0.75, 'last': 0.7701, 'close': 0.81, 'volume': 157325.0, 'date': '2023-04-27T00:00:00+0000', 'symbol': 'IMV', 'exchange': 'IEXG'}, {'open': 0.81, 'high': 0.81, 'low': 0.81, 'last': None, 'close': None, 'volume': None, 'date': '2023-04-26T19:00:00+0000', 'symbol': 'IMV', 'exchange': 'IEXG'}, {'open': 0.81, 'high': 0.81, 'low': 0.81, 'last': None, 'close': None, 'volume': None, 'date': '2023-04-26T18:00:00+0000', 'symbol': 'IMV', 'exchange': 'IEXG'}, {'open': 0.81, 'high': 0.81, 'low': 0.81, 'last': None, 'close': None, 'volume': None, 'date': '2023-04-26T17:00:00+0000', 'symbol': 'IMV', 'exchange': 'IEXG'}, {'open': 0.81, 'high': 0.81, 'low': 0.81, 'last': None, 'close': None, 'volume': None, 'date': '2023-04-26T16:00:00+0000', 'symbol': 'IMV', 'exchange': 'IEXG'}, {'open': 0.81, 'high': 0.81, 'low': 0.81, 'last': None, 'close': None, 'volume': None, 'date': '2023-04-26T15:00:00+0000', 'symbol': 'IMV', 'exchange': 'IEXG'}, {'open': 0.81, 'high': 0.81, 'low': 0.81, 'last': None, 'close': None, 'volume': None, 'date': '2023-04-26T14:00:00+0000', 'symbol': 'IMV', 'exchange': 'IEXG'}, {'open': 0.9723, 'high': 1.0, 'low': 0.77, 'last': 0.81, 'close': 0.91, 'volume': 2116565.0, 'date': '2023-04-26T00:00:00+0000', 'symbol': 'IMV', 'exchange': 'IEXG'}, {'open': 0.82, 'high': 0.82, 'low': 0.82, 'last': None, 'close': None, 'volume': None, 'date': '2023-04-25T19:00:00+0000', 'symbol': 'IMV', 'exchange': 'IEXG'}, {'open': 0.82, 'high': 0.82, 'low': 0.82, 'last': None, 'close': None, 'volume': None, 'date': '2023-04-25T18:00:00+0000', 'symbol': 'IMV', 'exchange': 'IEXG'}, {'open': 0.82, 'high': 0.82, 'low': 0.82, 'last': None, 'close': None, 'volume': None, 'date': '2023-04-25T17:00:00+0000', 'symbol': 'IMV', 'exchange': 'IEXG'}, {'open': 0.82, 'high': 0.82, 'low': 0.82, 'last': None, 'close': None, 'volume': None, 'date': '2023-04-25T16:00:00+0000', 'symbol': 'IMV', 'exchange': 'IEXG'}, {'open': 0.95, 'high': 0.95, 'low': 0.95, 'last': None, 'close': None, 'volume': None, 'date': '2023-04-25T15:00:00+0000', 'symbol': 'IMV', 'exchange': 'IEXG'}, {'open': 0.95, 'high': 0.95, 'low': 0.95, 'last': None, 'close': None, 'volume': None, 'date': '2023-04-25T14:00:00+0000', 'symbol': 'IMV', 'exchange': 'IEXG'}, {'open': 0.83, 'high': 0.83, 'low': 0.83, 'last': None, 'close': None, 'volume': None, 'date': '2023-04-24T19:00:00+0000', 'symbol': 'IMV', 'exchange': 'IEXG'}, {'open': 0.8445, 'high': 0.8445, 'low': 0.8445, 'last': None, 'close': None, 'volume': None, 'date': '2023-04-24T18:00:00+0000', 'symbol': 'IMV', 'exchange': 'IEXG'}, {'open': 0.8445, 'high': 0.8445, 'low': 0.8445, 'last': None, 'close': None, 'volume': None, 'date': '2023-04-24T17:00:00+0000', 'symbol': 'IMV', 'exchange': 'IEXG'}, {'open': 0.8445, 'high': 0.8445, 'low': 0.8445, 'last': None, 'close': None, 'volume': None, 'date': '2023-04-24T16:00:00+0000', 'symbol': 'IMV', 'exchange': 'IEXG'}, {'open': 0.8445, 'high': 0.8445, 'low': 0.8445, 'last': None, 'close': None, 'volume': None, 'date': '2023-04-24T15:00:00+0000', 'symbol': 'IMV', 'exchange': 'IEXG'}, {'open': 0.8445, 'high': 0.8445, 'low': 0.8445, 'last': None, 'close': None, 'volume': None, 'date': '2023-04-24T14:00:00+0000', 'symbol': 'IMV', 'exchange': 'IEXG'}, {'open': 0.68, 'high': 0.77, 'low': 0.662, 'last': 0.76, 'close': 0.67, 'volume': 164981.0, 'date': '2023-04-22T00:00:00+0000', 'symbol': 'IMV', 'exchange': 'IEXG'}, {'open': 0.67, 'high': 0.67, 'low': 0.67, 'last': None, 'close': None, 'volume': None, 'date': '2023-04-21T19:00:00+0000', 'symbol': 'IMV', 'exchange': 'IEXG'}, {'open': 0.67, 'high': 0.67, 'low': 0.67, 'last': None, 'close': None, 'volume': None, 'date': '2023-04-21T18:00:00+0000', 'symbol': 'IMV', 'exchange': 'IEXG'}, {'open': 0.67, 'high': 0.67, 'low': 0.67, 'last': None, 'close': None, 'volume': None, 'date': '2023-04-21T17:00:00+0000', 'symbol': 'IMV', 'exchange': 'IEXG'}, {'open': 0.67, 'high': 0.67, 'low': 0.67, 'last': None, 'close': None, 'volume': None, 'date': '2023-04-21T16:00:00+0000', 'symbol': 'IMV', 'exchange': 'IEXG'}, {'open': 0.67, 'high': 0.67, 'low': 0.67, 'last': None, 'close': None, 'volume': None, 'date': '2023-04-21T15:00:00+0000', 'symbol': 'IMV', 'exchange': 'IEXG'}, {'open': 0.67, 'high': 0.67, 'low': 0.67, 'last': None, 'close': None, 'volume': None, 'date': '2023-04-21T14:00:00+0000', 'symbol': 'IMV', 'exchange': 'IEXG'}, {'open': 0.6999, 'high': 0.6999, 'low': 0.6454, 'last': 0.67, 'close': 0.6699, 'volume': 135488.0, 'date': '2023-04-21T00:00:00+0000', 'symbol': 'IMV', 'exchange': 'IEXG'}, {'open': 0.67, 'high': 0.67, 'low': 0.67, 'last': None, 'close': None, 'volume': None, 'date': '2023-04-20T19:00:00+0000', 'symbol': 'IMV', 'exchange': 'IEXG'}, {'open': 0.67, 'high': 0.67, 'low': 0.67, 'last': None, 'close': None, 'volume': None, 'date': '2023-04-20T18:00:00+0000', 'symbol': 'IMV', 'exchange': 'IEXG'}, {'open': 0.67, 'high': 0.67, 'low': 0.67, 'last': None, 'close': None, 'volume': None, 'date': '2023-04-20T17:00:00+0000', 'symbol': 'IMV', 'exchange': 'IEXG'}, {'open': 0.67, 'high': 0.67, 'low': 0.67, 'last': None, 'close': None, 'volume': None, 'date': '2023-04-20T16:00:00+0000', 'symbol': 'IMV', 'exchange': 'IEXG'}, {'open': 0.67, 'high': 0.67, 'low': 0.67, 'last': None, 'close': None, 'volume': None, 'date': '2023-04-20T15:00:00+0000', 'symbol': 'IMV', 'exchange': 'IEXG'}, {'open': 0.67, 'high': 0.67, 'low': 0.67, 'last': None, 'close': None, 'volume': None, 'date': '2023-04-20T14:00:00+0000', 'symbol': 'IMV', 'exchange': 'IEXG'}, {'open': 0.66, 'high': 0.6699, 'low': 0.6, 'last': 0.6699, 'close': 0.6399, 'volume': 72229.0, 'date': '2023-04-20T00:00:00+0000', 'symbol': 'IMV', 'exchange': 'IEXG'}, {'open': 0.648, 'high': 0.648, 'low': 0.648, 'last': None, 'close': None, 'volume': None, 'date': '2023-04-19T19:00:00+0000', 'symbol': 'IMV', 'exchange': 'IEXG'}, {'open': 0.648, 'high': 0.648, 'low': 0.648, 'last': None, 'close': None, 'volume': None, 'date': '2023-04-19T18:00:00+0000', 'symbol': 'IMV', 'exchange': 'IEXG'}, {'open': 0.648, 'high': 0.648, 'low': 0.648, 'last': None, 'close': None, 'volume': None, 'date': '2023-04-19T17:00:00+0000', 'symbol': 'IMV', 'exchange': 'IEXG'}, {'open': 0.648, 'high': 0.648, 'low': 0.648, 'last': None, 'close': None, 'volume': None, 'date': '2023-04-19T16:00:00+0000', 'symbol': 'IMV', 'exchange': 'IEXG'}, {'open': 0.648, 'high': 0.648, 'low': 0.648, 'last': None, 'close': None, 'volume': None, 'date': '2023-04-19T15:00:00+0000', 'symbol': 'IMV', 'exchange': 'IEXG'}, {'open': 0.648, 'high': 0.648, 'low': 0.648, 'last': None, 'close': None, 'volume': None, 'date': '2023-04-19T14:00:00+0000', 'symbol': 'IMV', 'exchange': 'IEXG'}, {'open': 0.6112, 'high': 0.66, 'low': 0.6112, 'last': 0.6399, 'close': 0.63, 'volume': 113185.0, 'date': '2023-04-19T00:00:00+0000', 'symbol': 'IMV', 'exchange': 'IEXG'}, {'open': 0.56, 'high': 0.7099, 'low': 0.55, 'last': 0.63, 'close': 0.55, 'volume': 540076.0, 'date': '2023-04-18T00:00:00+0000', 'symbol': 'IMV', 'exchange': 'IEXG'}, {'open': 0.7, 'high': 0.7, 'low': 0.7, 'last': None, 'close': None, 'volume': None, 'date': '2023-04-17T19:00:00+0000', 'symbol': 'IMV', 'exchange': 'IEXG'}, {'open': 0.7, 'high': 0.7, 'low': 0.7, 'last': None, 'close': None, 'volume': None, 'date': '2023-04-17T18:00:00+0000', 'symbol': 'IMV', 'exchange': 'IEXG'}, {'open': 0.58, 'high': 0.58, 'low': 0.58, 'last': None, 'close': None, 'volume': None, 'date': '2023-04-17T17:00:00+0000', 'symbol': 'IMV', 'exchange': 'IEXG'}, {'open': 0.58, 'high': 0.58, 'low': 0.58, 'last': None, 'close': None, 'volume': None, 'date': '2023-04-17T16:00:00+0000', 'symbol': 'IMV', 'exchange': 'IEXG'}, {'open': 0.58, 'high': 0.58, 'low': 0.58, 'last': None, 'close': None, 'volume': None, 'date': '2023-04-17T15:00:00+0000', 'symbol': 'IMV', 'exchange': 'IEXG'}, {'open': 0.58, 'high': 0.58, 'low': 0.58, 'last': None, 'close': None, 'volume': None, 'date': '2023-04-17T14:00:00+0000', 'symbol': 'IMV', 'exchange': 'IEXG'}, {'open': 0.53, 'high': 0.555, 'low': 0.52, 'last': 0.55, 'close': 0.5325, 'volume': 22762.0, 'date': '2023-04-15T00:00:00+0000', 'symbol': 'IMV', 'exchange': 'IEXG'}, {'open': 0.52, 'high': 0.5488, 'low': 0.512201, 'last': 0.5325, 'close': 0.512, 'volume': 51860.0, 'date': '2023-04-14T00:00:00+0000', 'symbol': 'IMV', 'exchange': 'IEXG'}, {'open': 0.54, 'high': 0.54, 'low': 0.54, 'last': None, 'close': None, 'volume': None, 'date': '2023-04-13T19:00:00+0000', 'symbol': 'IMV', 'exchange': 'IEXG'}, {'open': 0.54, 'high': 0.54, 'low': 0.54, 'last': None, 'close': None, 'volume': None, 'date': '2023-04-13T18:00:00+0000', 'symbol': 'IMV', 'exchange': 'IEXG'}, {'open': 0.54, 'high': 0.54, 'low': 0.54, 'last': None, 'close': None, 'volume': None, 'date': '2023-04-13T17:00:00+0000', 'symbol': 'IMV', 'exchange': 'IEXG'}, {'open': 0.54, 'high': 0.54, 'low': 0.54, 'last': None, 'close': None, 'volume': None, 'date': '2023-04-13T16:00:00+0000', 'symbol': 'IMV', 'exchange': 'IEXG'}, {'open': 0.5301, 'high': 0.54, 'low': 0.5301, 'last': 0.54, 'close': 0.512, 'volume': 2.0, 'date': '2023-04-13T15:00:00+0000', 'symbol': 'IMV', 'exchange': 'IEXG'}, {'open': 0.5201, 'high': 0.5201, 'low': 0.5201, 'last': None, 'close': None, 'volume': None, 'date': '2023-04-13T14:00:00+0000', 'symbol': 'IMV', 'exchange': 'IEXG'}, {'open': 0.527, 'high': 0.5299, 'low': 0.509, 'last': 0.512, 'close': 0.53, 'volume': 35039.0, 'date': '2023-04-13T00:00:00+0000', 'symbol': 'IMV', 'exchange': 'IEXG'}, {'open': 0.5201, 'high': 0.5201, 'low': 0.5201, 'last': None, 'close': None, 'volume': None, 'date': '2023-04-12T19:00:00+0000', 'symbol': 'IMV', 'exchange': 'IEXG'}, {'open': 0.5201, 'high': 0.5201, 'low': 0.5201, 'last': None, 'close': None, 'volume': None, 'date': '2023-04-12T18:00:00+0000', 'symbol': 'IMV', 'exchange': 'IEXG'}, {'open': 0.5201, 'high': 0.5201, 'low': 0.5201, 'last': None, 'close': None, 'volume': None, 'date': '2023-04-12T17:00:00+0000', 'symbol': 'IMV', 'exchange': 'IEXG'}, {'open': 0.5201, 'high': 0.5201, 'low': 0.5201, 'last': None, 'close': None, 'volume': None, 'date': '2023-04-12T16:00:00+0000', 'symbol': 'IMV', 'exchange': 'IEXG'}, {'open': 0.5201, 'high': 0.5201, 'low': 0.5201, 'last': None, 'close': None, 'volume': None, 'date': '2023-04-12T15:00:00+0000', 'symbol': 'IMV', 'exchange': 'IEXG'}, {'open': 0.5201, 'high': 0.5201, 'low': 0.5201, 'last': None, 'close': None, 'volume': None, 'date': '2023-04-12T14:00:00+0000', 'symbol': 'IMV', 'exchange': 'IEXG'}, {'open': 0.5, 'high': 0.5399, 'low': 0.5, 'last': 0.53, 'close': 0.5345, 'volume': 37023.0, 'date': '2023-04-12T00:00:00+0000', 'symbol': 'IMV', 'exchange': 'IEXG'}, {'open': 0.53, 'high': 0.5399, 'low': 0.52, 'last': 0.5345, 'close': 0.5156, 'volume': 56337.0, 'date': '2023-04-11T00:00:00+0000', 'symbol': 'IMV', 'exchange': 'IEXG'}, {'open': 0.5177, 'high': 0.5489, 'low': 0.5156, 'last': 0.5156, 'close': 0.542, 'volume': 27539.0, 'date': '2023-04-07T00:00:00+0000', 'symbol': 'IMV', 'exchange': 'IEXG'}, {'open': 0.52, 'high': 0.5489, 'low': 0.52, 'last': 0.542, 'close': 0.5247, 'volume': 47856.0, 'date': '2023-04-06T00:00:00+0000', 'symbol': 'IMV', 'exchange': 'IEXG'}, {'open': 0.536, 'high': 0.536, 'low': 0.536, 'last': None, 'close': None, 'volume': None, 'date': '2023-04-05T19:00:00+0000', 'symbol': 'IMV', 'exchange': 'IEXG'}, {'open': 0.536, 'high': 0.536, 'low': 0.536, 'last': None, 'close': None, 'volume': None, 'date': '2023-04-05T18:00:00+0000', 'symbol': 'IMV', 'exchange': 'IEXG'}, {'open': 0.536, 'high': 0.536, 'low': 0.536, 'last': None, 'close': None, 'volume': None, 'date': '2023-04-05T17:00:00+0000', 'symbol': 'IMV', 'exchange': 'IEXG'}, {'open': 0.536, 'high': 0.536, 'low': 0.536, 'last': None, 'close': None, 'volume': None, 'date': '2023-04-05T16:00:00+0000', 'symbol': 'IMV', 'exchange': 'IEXG'}, {'open': 0.536, 'high': 0.536, 'low': 0.536, 'last': None, 'close': None, 'volume': None, 'date': '2023-04-05T15:00:00+0000', 'symbol': 'IMV', 'exchange': 'IEXG'}, {'open': 0.536, 'high': 0.536, 'low': 0.536, 'last': None, 'close': None, 'volume': None, 'date': '2023-04-05T14:00:00+0000', 'symbol': 'IMV', 'exchange': 'IEXG'}, {'open': 0.5489, 'high': 0.5489, 'low': 0.52, 'last': 0.5247, 'close': 0.54, 'volume': 43193.0, 'date': '2023-04-05T00:00:00+0000', 'symbol': 'IMV', 'exchange': 'IEXG'}, {'open': 0.5469, 'high': 0.559, 'low': 0.5142, 'last': 0.54, 'close': 0.5301, 'volume': 25799.0, 'date': '2023-04-04T00:00:00+0000', 'symbol': 'IMV', 'exchange': 'IEXG'}, {'open': 0.547, 'high': 0.547, 'low': 0.53, 'last': 0.5301, 'close': 0.5395, 'volume': 30490.0, 'date': '2023-04-01T00:00:00+0000', 'symbol': 'IMV', 'exchange': 'IEXG'}, {'open': 0.5131, 'high': 0.5398, 'low': 0.513, 'last': 0.5395, 'close': 0.513, 'volume': 54006.0, 'date': '2023-03-31T00:00:00+0000', 'symbol': 'IMV', 'exchange': 'IEXG'}, {'open': 0.4901, 'high': 0.5133, 'low': 0.4901, 'last': 0.513, 'close': 0.485, 'volume': 61439.0, 'date': '2023-03-30T00:00:00+0000', 'symbol': 'IMV', 'exchange': 'IEXG'}]}\n"
     ]
    },
    {
     "name": "stdout",
     "output_type": "stream",
     "text": [
      "Failed to fetch data for IDX30. Status Code: 403\n"
     ]
    }
   ],
   "source": [
    "# Loop through each value in the \"ticker\" column\n",
    "for ticker in df['Ticker']:\n",
    "    # Make the API request for each ticker\n",
    "    url = f'http://api.marketstack.com/v1/intraday?access_key={api_key}&symbols={ticker}'\n",
    "    \n",
    "    # You can add optional parameters like interval, sort, date_from, date_to, limit, and offset to the URL as needed\n",
    "    # For example: url += '&interval=1h&sort=DESC&date_from=2023-01-01&date_to=2023-07-01&limit=100&offset=0'\n",
    "\n",
    "    response = requests.get(url)\n",
    "\n",
    "    if response.status_code == 200:\n",
    "        # Print the response for the current ticker\n",
    "        print(f\"Response for {ticker}:\")\n",
    "        print(response.json())\n",
    "    else:\n",
    "        print(f\"Failed to fetch data for {ticker}. Status Code: {response.status_code}\")"
   ]
  },
  {
   "cell_type": "code",
   "execution_count": null,
   "id": "67feaf54",
   "metadata": {},
   "outputs": [],
   "source": []
  }
 ],
 "metadata": {
  "kernelspec": {
   "display_name": "Python 3 (ipykernel)",
   "language": "python",
   "name": "python3"
  },
  "language_info": {
   "codemirror_mode": {
    "name": "ipython",
    "version": 3
   },
   "file_extension": ".py",
   "mimetype": "text/x-python",
   "name": "python",
   "nbconvert_exporter": "python",
   "pygments_lexer": "ipython3",
   "version": "3.10.4"
  }
 },
 "nbformat": 4,
 "nbformat_minor": 5
}
