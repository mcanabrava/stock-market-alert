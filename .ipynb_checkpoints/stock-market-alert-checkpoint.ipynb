{
 "cells": [
  {
   "cell_type": "code",
   "execution_count": 38,
   "id": "a3ad86e4",
   "metadata": {},
   "outputs": [],
   "source": [
    "import pandas as pd\n",
    "import configparser\n",
    "import requests\n",
    "import json\n",
    "from twilio.rest import Client"
   ]
  },
  {
   "cell_type": "code",
   "execution_count": 39,
   "id": "726f66ab",
   "metadata": {},
   "outputs": [
    {
     "name": "stdout",
     "output_type": "stream",
     "text": [
      "  Ticker                         Index\n",
      "0    SPX                       S&P 500\n",
      "1   IXIC            US COMPOSITE INDEX\n",
      "2    DJI  Dow Jones Industrial Average\n",
      "3    VIX         CBOE VOLATILITY INDEX\n",
      "4    TSX       S&P/TSX COMPOSITE INDEX\n"
     ]
    },
    {
     "data": {
      "text/html": [
       "<div>\n",
       "<style scoped>\n",
       "    .dataframe tbody tr th:only-of-type {\n",
       "        vertical-align: middle;\n",
       "    }\n",
       "\n",
       "    .dataframe tbody tr th {\n",
       "        vertical-align: top;\n",
       "    }\n",
       "\n",
       "    .dataframe thead th {\n",
       "        text-align: right;\n",
       "    }\n",
       "</style>\n",
       "<table border=\"1\" class=\"dataframe\">\n",
       "  <thead>\n",
       "    <tr style=\"text-align: right;\">\n",
       "      <th></th>\n",
       "      <th>Ticker</th>\n",
       "      <th>Index</th>\n",
       "    </tr>\n",
       "  </thead>\n",
       "  <tbody>\n",
       "    <tr>\n",
       "      <th>count</th>\n",
       "      <td>26</td>\n",
       "      <td>26</td>\n",
       "    </tr>\n",
       "    <tr>\n",
       "      <th>unique</th>\n",
       "      <td>26</td>\n",
       "      <td>26</td>\n",
       "    </tr>\n",
       "    <tr>\n",
       "      <th>top</th>\n",
       "      <td>SPX</td>\n",
       "      <td>S&amp;P 500</td>\n",
       "    </tr>\n",
       "    <tr>\n",
       "      <th>freq</th>\n",
       "      <td>1</td>\n",
       "      <td>1</td>\n",
       "    </tr>\n",
       "  </tbody>\n",
       "</table>\n",
       "</div>"
      ],
      "text/plain": [
       "       Ticker    Index\n",
       "count      26       26\n",
       "unique     26       26\n",
       "top       SPX  S&P 500\n",
       "freq        1        1"
      ]
     },
     "execution_count": 39,
     "metadata": {},
     "output_type": "execute_result"
    }
   ],
   "source": [
    "# Replace 'indexes.csv' with the actual filename if it's different\n",
    "csv_file = 'indexes.csv'\n",
    "\n",
    "# Read the CSV file into a Pandas DataFrame\n",
    "df = pd.read_csv(csv_file)\n",
    "\n",
    "# Display the first few rows of the DataFrame to check if the data was loaded correctly\n",
    "print(df.head())\n",
    "df.describe()"
   ]
  },
  {
   "cell_type": "code",
   "execution_count": 41,
   "id": "972dd41c",
   "metadata": {},
   "outputs": [],
   "source": [
    "# Read the API key from env.cfg\n",
    "config = configparser.ConfigParser()\n",
    "config.read('env.cfg')\n",
    "\n",
    "STOCK_API_KEY = config.get('MARKETSTACK', 'API_KEY')\n",
    "TWILIO_API_KEY = config.get('TWILIO', 'API_KEY')\n",
    "ACCOUNT_SID = config.get('TWILIO', 'ACCOUNT_SID')\n",
    "AUTH_TOKEN = config.get('TWILIO', 'AUTH_TOKEN')\n",
    "TWILIO_PHONE_NUMBER = config.get('TWILIO', 'TWILIO_PHONE_NUMBER')\n",
    "TARGET_PHONE_NUMBER = config.get('TWILIO', 'TARGET_PHONE_NUMBER')"
   ]
  },
  {
   "cell_type": "code",
   "execution_count": 42,
   "id": "57d1c994",
   "metadata": {
    "scrolled": true
   },
   "outputs": [
    {
     "name": "stdout",
     "output_type": "stream",
     "text": [
      "Failed to fetch data for SPX. Status Code: 429\n",
      "Failed to fetch data for IXIC. Status Code: 429\n",
      "Failed to fetch data for DJI. Status Code: 429\n",
      "Failed to fetch data for VIX. Status Code: 429\n",
      "Failed to fetch data for TSX. Status Code: 429\n",
      "Failed to fetch data for UKX. Status Code: 429\n",
      "Failed to fetch data for DAX. Status Code: 429\n",
      "Failed to fetch data for PX1. Status Code: 429\n",
      "Failed to fetch data for FTMIB. Status Code: 429\n",
      "Failed to fetch data for NI225. Status Code: 429\n",
      "Failed to fetch data for KOSPI. Status Code: 429\n",
      "Failed to fetch data for 000001. Status Code: 429\n",
      "Failed to fetch data for 399001. Status Code: 429\n",
      "Failed to fetch data for XJO. Status Code: 429\n",
      "Failed to fetch data for COMPOSITE. Status Code: 429\n",
      "Failed to fetch data for SX5E. Status Code: 429\n",
      "Failed to fetch data for IMOEX. Status Code: 429\n",
      "Failed to fetch data for XU100. Status Code: 429\n",
      "Failed to fetch data for SA40. Status Code: 429\n",
      "Failed to fetch data for NIFTY. Status Code: 429\n",
      "Failed to fetch data for SENSEX. Status Code: 429\n",
      "Failed to fetch data for TASI. Status Code: 429\n",
      "Failed to fetch data for IBOV. Status Code: 429\n",
      "Failed to fetch data for ME. Status Code: 429\n",
      "Failed to fetch data for IMV. Status Code: 429\n",
      "Failed to fetch data for IDX30. Status Code: 429\n"
     ]
    }
   ],
   "source": [
    "# Create an empty dictionary to store the successful responses\n",
    "data_dict = {}\n",
    "\n",
    "# Loop through each value in the \"ticker\" column\n",
    "for ticker in df['Ticker']:\n",
    "    # Make the API request for each ticker\n",
    "    url = f'http://api.marketstack.com/v1/intraday?access_key={STOCK_API_KEY}&symbols={ticker}'\n",
    "    \n",
    "    # You can add optional parameters like interval, sort, date_from, date_to, limit, and offset to the URL as needed\n",
    "    # For example: url += '&interval=1h&sort=DESC&date_from=2023-01-01&date_to=2023-07-01&limit=100&offset=0'\n",
    "\n",
    "    response = requests.get(url)\n",
    "\n",
    "    if response.status_code == 200:\n",
    "        # Parse the JSON response\n",
    "        response_data = response.json()\n",
    "\n",
    "        # Check if the \"data\" list is not empty\n",
    "        if 'data' in response_data and len(response_data['data']) > 0:\n",
    "            # Get the first \"data\" object from the JSON response\n",
    "            data = response_data['data'][0]\n",
    "\n",
    "            # Calculate the percentage difference between \"open\" and \"last\" values\n",
    "            open_value = data['open']\n",
    "            last_value = data['last']\n",
    "            percent_diff = ((last_value - open_value) / open_value) * 100\n",
    "\n",
    "            # Store the ticker and values in the dictionary\n",
    "            data_dict[ticker] = {\n",
    "                'open': open_value,\n",
    "                'last': last_value,\n",
    "                'percent_diff': percent_diff\n",
    "            }\n",
    "        else:\n",
    "            print(f\"No data available for {ticker}\")\n",
    "    else:\n",
    "        print(f\"Failed to fetch data for {ticker}. Status Code: {response.status_code}\")\n",
    "\n",
    "# Print the dictionary containing successful responses\n",
    "for ticker, data in data_dict.items():\n",
    "    print(f\"Ticker: {ticker}\")\n",
    "    print(f\"Open: {data['open']}\")\n",
    "    print(f\"Last: {data['last']}\")\n",
    "    print(f\"Percentage Difference: {data['percent_diff']:.2f}%\")\n",
    "    print()"
   ]
  },
  {
   "cell_type": "code",
   "execution_count": 43,
   "id": "2dd2e849",
   "metadata": {},
   "outputs": [],
   "source": [
    "\"\"\"\n",
    "# Manually add the specified items for 'DAX' and '000001' for testing purposes (after all I'm doing this on Sunday and the market is closed)\n",
    "data_dict['DAX'] = {\n",
    "    'open': 30.3,\n",
    "    'last': 30.15,\n",
    "    'percent_diff': -0.50\n",
    "}\n",
    "\n",
    "data_dict['000001'] = {\n",
    "    'open': 10.4,\n",
    "    'last': 10.82,\n",
    "    'percent_diff': 4.04\n",
    "}\n",
    "\"\"\""
   ]
  },
  {
   "cell_type": "code",
   "execution_count": 44,
   "id": "67feaf54",
   "metadata": {},
   "outputs": [
    {
     "name": "stdout",
     "output_type": "stream",
     "text": [
      "Selected Rows:\n",
      "Ticker: 000001 - Percentage Difference 4.04%\n"
     ]
    }
   ],
   "source": [
    "# Create an empty list to store the rows that meet the condition\n",
    "selected_rows = []\n",
    "\n",
    "# Set the threshold percentage difference (X)\n",
    "threshold_percent_lower = -3\n",
    "threshold_percent_higher = 3\n",
    "\n",
    "# Check for tickers with percentage difference lower than the threshold\n",
    "for ticker, data in data_dict.items():\n",
    "    if data['percent_diff'] < threshold_percent_lower or data['percent_diff'] > threshold_percent_higher:\n",
    "         selected_rows.append(f\"Ticker: {ticker} - Percentage Difference {data['percent_diff']:.2f}%\")\n",
    "\n",
    "print(\"Selected Rows:\")\n",
    "for row in selected_rows:\n",
    "    print(row)"
   ]
  },
  {
   "cell_type": "code",
   "execution_count": 50,
   "id": "5836c492",
   "metadata": {},
   "outputs": [
    {
     "name": "stdout",
     "output_type": "stream",
     "text": [
      "The following Indexes are fluctuating strongly:\n",
      "Ticker: 000001 - Percentage Difference 4.04%\n",
      "\n",
      "Message SID: SMc54b816ffb756c1ae2acb05f4eb3c40f\n"
     ]
    }
   ],
   "source": [
    "# Create a message with the selected_rows data\n",
    "message_body = \"The following Indexes are fluctuating strongly:\\n\"\n",
    "for row in selected_rows:\n",
    "    message_body += f\"{row}\\n\"\n",
    "    print(message_body)\n",
    "\n",
    "# Send the message via Twilio API\n",
    "client = Client(ACCOUNT_SID, AUTH_TOKEN)\n",
    "message = client.messages.create(\n",
    "    body=message_body,\n",
    "    from_=TWILIO_PHONE_NUMBER,\n",
    "    to=TARGET_PHONE_NUMBER\n",
    ")\n",
    "\n",
    "# Print the Twilio message SID for reference\n",
    "print(f\"Message SID: {message.sid}\")"
   ]
  }
 ],
 "metadata": {
  "kernelspec": {
   "display_name": "Python 3 (ipykernel)",
   "language": "python",
   "name": "python3"
  },
  "language_info": {
   "codemirror_mode": {
    "name": "ipython",
    "version": 3
   },
   "file_extension": ".py",
   "mimetype": "text/x-python",
   "name": "python",
   "nbconvert_exporter": "python",
   "pygments_lexer": "ipython3",
   "version": "3.10.4"
  }
 },
 "nbformat": 4,
 "nbformat_minor": 5
}
